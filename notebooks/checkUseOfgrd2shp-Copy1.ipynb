{
 "cells": [
  {
   "cell_type": "code",
   "execution_count": 1,
   "metadata": {},
   "outputs": [],
   "source": [
    "import pickle  # noqa: S403\n",
    "import geopandas as gpd\n",
    "import xarray as xr\n",
    "import grd2shp_xagg\n",
    "import xagg"
   ]
  },
  {
   "cell_type": "code",
   "execution_count": 2,
   "metadata": {},
   "outputs": [],
   "source": [
    "# %matplotlib inline\n",
    "ds2 = xr.open_dataset(\"../data/tmax_full.nc\")\n",
    "gdf = gpd.read_file(\"../data/nhru_01.shp\")\n",
    "# weightmap = xagg.pixel_overlaps(ds2, gdf)\n",
    "# with open(\"../data/weight_nhru1.txt\", 'wb') as file:\n",
    "#     pickle.dump(weightmap, file)\n",
    "with open(\"../data/weight_nhru1.txt\", \"rb\") as file:\n",
    "    agg = pickle.load(file)  # noqa: S301\n",
    "    "
   ]
  },
  {
   "cell_type": "code",
   "execution_count": 3,
   "metadata": {},
   "outputs": [
    {
     "data": {
      "text/plain": [
       "Frozen({'day': 32, 'lat': 585, 'crs': 1, 'lon': 1386, 'time': 48})"
      ]
     },
     "execution_count": 3,
     "metadata": {},
     "output_type": "execute_result"
    }
   ],
   "source": [
    "ds2.dims"
   ]
  },
  {
   "cell_type": "code",
   "execution_count": 4,
   "metadata": {
    "tags": []
   },
   "outputs": [
    {
     "name": "stdout",
     "output_type": "stream",
     "text": [
      "numtimesteps: 32 and Start date: 2021-08-02\n"
     ]
    }
   ],
   "source": [
    "gm_vars = [\"air_temperature\"]\n",
    "g2s = grd2shp_xagg.Grd2ShpXagg()\n",
    "g2s.initialize(\n",
    "    grd=[ds2],\n",
    "    shp=gdf,\n",
    "    wght_file=\"../data/weight_nhru1.txt\",\n",
    "    ens_var=\"time\",\n",
    "    time_var=\"day\",\n",
    "    lat_var=\"lat\",\n",
    "    lon_var=\"lon\",\n",
    "    var=gm_vars,\n",
    "    var_output=[\"tmax\"],\n",
    "    ctype=0,\n",
    "    threaded=False\n",
    ")"
   ]
  },
  {
   "cell_type": "code",
   "execution_count": 5,
   "metadata": {},
   "outputs": [
    {
     "name": "stdout",
     "output_type": "stream",
     "text": [
      "generating mapped vales for air_temperature ...\n",
      "adjusting grid... (this may happen because only a subset of pixels were used for aggregation for efficiency - i.e. [subset_bbox=True] in xa.pixel_overlaps())\n",
      "grid adjustment successful\n",
      "aggregating air_temperature...\n",
      "all variables aggregated to polygons!\n",
      "finished mapped values for air_temperature\n"
     ]
    }
   ],
   "source": [
    "g2s.run_weights()"
   ]
  },
  {
   "cell_type": "code",
   "execution_count": 6,
   "metadata": {},
   "outputs": [
    {
     "name": "stdout",
     "output_type": "stream",
     "text": [
      "generating geometry centroid lat lons\n"
     ]
    },
    {
     "name": "stderr",
     "output_type": "stream",
     "text": [
      "/home/rmcd/gitNHM/grd2shp_xagg/src/grd2shp_xagg/grd2shp_xagg.py:544: UserWarning: Geometry is in a geographic CRS. Results from 'centroid' are likely incorrect. Use 'GeoSeries.to_crs()' to re-project geometries to a projected CRS before this operation.\n",
      "\n",
      "  centroidseries = self.gdf.geometry.centroid.to_crs(epsg=4327)\n"
     ]
    },
    {
     "name": "stdout",
     "output_type": "stream",
     "text": [
      "finished generating geometry centroid lat lons\n",
      "output path exists\n",
      "<xarray.DataArray 'air_temperature' (poly_idx: 2462, day: 32)>\n",
      "array([[299.10261314, 301.08965413, 297.79481338, ..., 298.89329658,\n",
      "        299.5927609 , 301.29481338],\n",
      "       [299.18904835, 301.13403515, 297.81700491, ..., 298.88835411,\n",
      "        299.60384508, 301.33402203],\n",
      "       [299.29998779, 301.29998779, 297.8999939 , ..., 299.        ,\n",
      "        299.70001221, 301.5       ],\n",
      "       ...,\n",
      "       [291.27031693, 296.30279113, 299.07379494, ..., 288.02982507,\n",
      "        291.57098365, 296.25237533],\n",
      "       [291.37722307, 296.36690544, 299.19869064, ..., 287.91892228,\n",
      "        292.00729329, 296.34438291],\n",
      "       [291.03013577, 295.70755518, 298.51236684, ..., 288.3828857 ,\n",
      "        290.40499925, 295.52408752]])\n",
      "Coordinates:\n",
      "  * poly_idx  (poly_idx) int64 0 1 2 3 4 5 6 ... 2456 2457 2458 2459 2460 2461\n",
      "    time      int64 0\n",
      "  * day       (day) datetime64[ns] 2021-08-02 2021-08-03 ... 2021-09-02\n"
     ]
    },
    {
     "name": "stderr",
     "output_type": "stream",
     "text": [
      "/home/rmcd/miniconda3/envs/grd2shp_xagg/lib/python3.9/site-packages/geopandas/geodataframe.py:577: RuntimeWarning: Sequential read of iterator was interrupted. Resetting iterator. This can negatively impact the performance.\n",
      "  for feature in features_lst:\n"
     ]
    },
    {
     "name": "stdout",
     "output_type": "stream",
     "text": [
      "output path exists\n",
      "<xarray.DataArray 'air_temperature' (poly_idx: 2462, day: 32)>\n",
      "array([[299.20261782, 301.78963739, 298.8999939 , ..., 300.79794328,\n",
      "        299.60054392, 300.68812686],\n",
      "       [299.28903766, 301.83402203, 298.91701102, ..., 300.84720018,\n",
      "        299.6758702 , 300.67518908],\n",
      "       [299.3999939 , 302.        , 299.        , ..., 301.        ,\n",
      "        299.79998779, 300.79998779],\n",
      "       ...,\n",
      "       [293.12219249, 295.73284036, 299.14584868, ..., 289.36974042,\n",
      "        292.82748455, 293.06121608],\n",
      "       [293.21497446, 295.88133441, 299.27760324, ..., 289.67592245,\n",
      "        293.03175213, 293.28171431],\n",
      "       [292.92933998, 294.88449607, 298.49542208, ..., 288.54186999,\n",
      "        292.32829885, 292.01686014]])\n",
      "Coordinates:\n",
      "  * poly_idx  (poly_idx) int64 0 1 2 3 4 5 6 ... 2456 2457 2458 2459 2460 2461\n",
      "    time      int64 1\n",
      "  * day       (day) datetime64[ns] 2021-08-02 2021-08-03 ... 2021-09-02\n",
      "output path exists\n",
      "<xarray.DataArray 'air_temperature' (poly_idx: 2462, day: 32)>\n",
      "array([[298.7994776 , 300.48964802, 296.99329064, ..., 298.09949433,\n",
      "        298.59742511, 300.58498991],\n",
      "       [298.87201811, 300.53403424, 296.95816495, ..., 298.20606547,\n",
      "        298.6758702 , 300.54499291],\n",
      "       [298.8999939 , 300.70001221, 297.        , ..., 298.3999939 ,\n",
      "        298.79998779, 300.6000061 ],\n",
      "       ...,\n",
      "       [291.26412339, 296.17998536, 298.69925337, ..., 297.73970041,\n",
      "        292.74663542, 290.83870568],\n",
      "       [291.29652388, 296.21636285, 298.81655349, ..., 297.8074191 ,\n",
      "        292.85498704, 291.06064729],\n",
      "       [291.27582189, 295.54898245, 298.20384304, ..., 297.50986118,\n",
      "        292.21331811, 290.15854255]])\n",
      "Coordinates:\n",
      "  * poly_idx  (poly_idx) int64 0 1 2 3 4 5 6 ... 2456 2457 2458 2459 2460 2461\n",
      "    time      int64 2\n",
      "  * day       (day) datetime64[ns] 2021-08-02 2021-08-03 ... 2021-09-02\n",
      "output path exists\n",
      "<xarray.DataArray 'air_temperature' (poly_idx: 2462, day: 32)>\n",
      "array([[299.2927562 , 301.5917113 , 298.29999983, ..., 303.68967226,\n",
      "        302.29740838, 300.29016263],\n",
      "       [299.31700491, 301.63403515, 298.34720018, ..., 303.7642325 ,\n",
      "        302.37585709, 300.27518263],\n",
      "       [299.3999939 , 301.79998779, 298.5       , ..., 304.        ,\n",
      "        302.5       , 300.3999939 ],\n",
      "       ...,\n",
      "       [291.4438856 , 295.87897869, 299.34268335, ..., 298.23637581,\n",
      "        298.65234524, 302.02072569],\n",
      "       [291.61435054, 295.99005731, 299.47303139, ..., 298.53622567,\n",
      "        298.69197798, 301.95880378],\n",
      "       [291.02902361, 295.19257009, 298.79461568, ..., 297.47161216,\n",
      "        298.85771624, 301.92889846]])\n",
      "Coordinates:\n",
      "  * poly_idx  (poly_idx) int64 0 1 2 3 4 5 6 ... 2456 2457 2458 2459 2460 2461\n",
      "    time      int64 3\n",
      "  * day       (day) datetime64[ns] 2021-08-02 2021-08-03 ... 2021-09-02\n"
     ]
    },
    {
     "ename": "KeyboardInterrupt",
     "evalue": "",
     "output_type": "error",
     "traceback": [
      "\u001b[0;31m---------------------------------------------------------------------------\u001b[0m",
      "\u001b[0;31mKeyboardInterrupt\u001b[0m                         Traceback (most recent call last)",
      "\u001b[0;32m/tmp/ipykernel_30837/2790577547.py\u001b[0m in \u001b[0;36m<module>\u001b[0;34m\u001b[0m\n\u001b[0;32m----> 1\u001b[0;31m g2s.write_gmcfsv2_file(opath='../data', prefix='test_',\n\u001b[0m\u001b[1;32m      2\u001b[0m elev_file='../data/package.gpkg')\n",
      "\u001b[0;32m~/gitNHM/grd2shp_xagg/src/grd2shp_xagg/grd2shp_xagg.py\u001b[0m in \u001b[0;36mwrite_gmcfsv2_file\u001b[0;34m(self, opath, prefix, elev_file, punits)\u001b[0m\n\u001b[1;32m    529\u001b[0m         \u001b[0;32melse\u001b[0m\u001b[0;34m:\u001b[0m\u001b[0;34m\u001b[0m\u001b[0;34m\u001b[0m\u001b[0m\n\u001b[1;32m    530\u001b[0m             \u001b[0;32mfor\u001b[0m \u001b[0meindex\u001b[0m \u001b[0;32min\u001b[0m \u001b[0mnp\u001b[0m\u001b[0;34m.\u001b[0m\u001b[0marange\u001b[0m\u001b[0;34m(\u001b[0m\u001b[0mself\u001b[0m\u001b[0;34m.\u001b[0m\u001b[0mnumensembles\u001b[0m\u001b[0;34m)\u001b[0m\u001b[0;34m:\u001b[0m\u001b[0;34m\u001b[0m\u001b[0;34m\u001b[0m\u001b[0m\n\u001b[0;32m--> 531\u001b[0;31m                 self.write_gmcfsv2_ensemble(eindex,\n\u001b[0m\u001b[1;32m    532\u001b[0m                                             \u001b[0mopath\u001b[0m\u001b[0;34m=\u001b[0m\u001b[0mopath\u001b[0m\u001b[0;34m,\u001b[0m\u001b[0;34m\u001b[0m\u001b[0;34m\u001b[0m\u001b[0m\n\u001b[1;32m    533\u001b[0m                                             \u001b[0mlon\u001b[0m\u001b[0;34m=\u001b[0m\u001b[0mlon\u001b[0m\u001b[0;34m,\u001b[0m\u001b[0;34m\u001b[0m\u001b[0;34m\u001b[0m\u001b[0m\n",
      "\u001b[0;32m~/gitNHM/grd2shp_xagg/src/grd2shp_xagg/grd2shp_xagg.py\u001b[0m in \u001b[0;36mwrite_gmcfsv2_ensemble\u001b[0;34m(self, eindex, opath, lon, lat, elev_file, prefix, punits)\u001b[0m\n\u001b[1;32m    445\u001b[0m                 \u001b[0mncvar\u001b[0m\u001b[0;34m.\u001b[0m\u001b[0munits\u001b[0m \u001b[0;34m=\u001b[0m \u001b[0mself\u001b[0m\u001b[0;34m.\u001b[0m\u001b[0mgrd\u001b[0m\u001b[0;34m[\u001b[0m\u001b[0mindex\u001b[0m\u001b[0;34m]\u001b[0m\u001b[0;34m[\u001b[0m\u001b[0mself\u001b[0m\u001b[0;34m.\u001b[0m\u001b[0mvar\u001b[0m\u001b[0;34m[\u001b[0m\u001b[0mindex\u001b[0m\u001b[0;34m]\u001b[0m\u001b[0;34m]\u001b[0m\u001b[0;34m.\u001b[0m\u001b[0munits\u001b[0m\u001b[0;34m\u001b[0m\u001b[0;34m\u001b[0m\u001b[0m\n\u001b[1;32m    446\u001b[0m \u001b[0;34m\u001b[0m\u001b[0m\n\u001b[0;32m--> 447\u001b[0;31m             \u001b[0melevf\u001b[0m \u001b[0;34m=\u001b[0m \u001b[0mgpd\u001b[0m\u001b[0;34m.\u001b[0m\u001b[0mread_file\u001b[0m\u001b[0;34m(\u001b[0m\u001b[0melev_file\u001b[0m\u001b[0;34m,\u001b[0m \u001b[0mlayer\u001b[0m\u001b[0;34m=\u001b[0m\u001b[0;34m\"hru_elev\"\u001b[0m\u001b[0;34m)\u001b[0m\u001b[0;34m\u001b[0m\u001b[0;34m\u001b[0m\u001b[0m\n\u001b[0m\u001b[1;32m    448\u001b[0m             \u001b[0melev\u001b[0m \u001b[0;34m=\u001b[0m \u001b[0melevf\u001b[0m\u001b[0;34m[\u001b[0m\u001b[0;34m\"hru_elev\"\u001b[0m\u001b[0;34m]\u001b[0m\u001b[0;34m.\u001b[0m\u001b[0mvalues\u001b[0m\u001b[0;34m\u001b[0m\u001b[0;34m\u001b[0m\u001b[0m\n\u001b[1;32m    449\u001b[0m \u001b[0;34m\u001b[0m\u001b[0m\n",
      "\u001b[0;32m~/miniconda3/envs/grd2shp_xagg/lib/python3.9/site-packages/geopandas/io/file.py\u001b[0m in \u001b[0;36m_read_file\u001b[0;34m(filename, bbox, mask, rows, **kwargs)\u001b[0m\n\u001b[1;32m    201\u001b[0m                 )\n\u001b[1;32m    202\u001b[0m \u001b[0;34m\u001b[0m\u001b[0m\n\u001b[0;32m--> 203\u001b[0;31m             return GeoDataFrame.from_features(\n\u001b[0m\u001b[1;32m    204\u001b[0m                 \u001b[0mf_filt\u001b[0m\u001b[0;34m,\u001b[0m \u001b[0mcrs\u001b[0m\u001b[0;34m=\u001b[0m\u001b[0mcrs\u001b[0m\u001b[0;34m,\u001b[0m \u001b[0mcolumns\u001b[0m\u001b[0;34m=\u001b[0m\u001b[0mcolumns\u001b[0m \u001b[0;34m+\u001b[0m \u001b[0;34m[\u001b[0m\u001b[0;34m\"geometry\"\u001b[0m\u001b[0;34m]\u001b[0m\u001b[0;34m\u001b[0m\u001b[0;34m\u001b[0m\u001b[0m\n\u001b[1;32m    205\u001b[0m             )\n",
      "\u001b[0;32m~/miniconda3/envs/grd2shp_xagg/lib/python3.9/site-packages/geopandas/geodataframe.py\u001b[0m in \u001b[0;36mfrom_features\u001b[0;34m(cls, features, crs, columns)\u001b[0m\n\u001b[1;32m    580\u001b[0m                 \u001b[0mfeature\u001b[0m \u001b[0;34m=\u001b[0m \u001b[0mfeature\u001b[0m\u001b[0;34m.\u001b[0m\u001b[0m__geo_interface__\u001b[0m\u001b[0;34m\u001b[0m\u001b[0;34m\u001b[0m\u001b[0m\n\u001b[1;32m    581\u001b[0m             row = {\n\u001b[0;32m--> 582\u001b[0;31m                 \u001b[0;34m\"geometry\"\u001b[0m\u001b[0;34m:\u001b[0m \u001b[0mshape\u001b[0m\u001b[0;34m(\u001b[0m\u001b[0mfeature\u001b[0m\u001b[0;34m[\u001b[0m\u001b[0;34m\"geometry\"\u001b[0m\u001b[0;34m]\u001b[0m\u001b[0;34m)\u001b[0m \u001b[0;32mif\u001b[0m \u001b[0mfeature\u001b[0m\u001b[0;34m[\u001b[0m\u001b[0;34m\"geometry\"\u001b[0m\u001b[0;34m]\u001b[0m \u001b[0;32melse\u001b[0m \u001b[0;32mNone\u001b[0m\u001b[0;34m\u001b[0m\u001b[0;34m\u001b[0m\u001b[0m\n\u001b[0m\u001b[1;32m    583\u001b[0m             }\n\u001b[1;32m    584\u001b[0m             \u001b[0;31m# load properties\u001b[0m\u001b[0;34m\u001b[0m\u001b[0;34m\u001b[0m\u001b[0;34m\u001b[0m\u001b[0m\n",
      "\u001b[0;32m~/miniconda3/envs/grd2shp_xagg/lib/python3.9/site-packages/shapely/geometry/geo.py\u001b[0m in \u001b[0;36mshape\u001b[0;34m(context)\u001b[0m\n\u001b[1;32m    103\u001b[0m         \u001b[0;32mreturn\u001b[0m \u001b[0mLineString\u001b[0m\u001b[0;34m(\u001b[0m\u001b[0mob\u001b[0m\u001b[0;34m[\u001b[0m\u001b[0;34m\"coordinates\"\u001b[0m\u001b[0;34m]\u001b[0m\u001b[0;34m)\u001b[0m\u001b[0;34m\u001b[0m\u001b[0;34m\u001b[0m\u001b[0m\n\u001b[1;32m    104\u001b[0m     \u001b[0;32melif\u001b[0m \u001b[0mgeom_type\u001b[0m \u001b[0;34m==\u001b[0m \u001b[0;34m\"polygon\"\u001b[0m\u001b[0;34m:\u001b[0m\u001b[0;34m\u001b[0m\u001b[0;34m\u001b[0m\u001b[0m\n\u001b[0;32m--> 105\u001b[0;31m         \u001b[0;32mreturn\u001b[0m \u001b[0mPolygon\u001b[0m\u001b[0;34m(\u001b[0m\u001b[0mob\u001b[0m\u001b[0;34m[\u001b[0m\u001b[0;34m\"coordinates\"\u001b[0m\u001b[0;34m]\u001b[0m\u001b[0;34m[\u001b[0m\u001b[0;36m0\u001b[0m\u001b[0;34m]\u001b[0m\u001b[0;34m,\u001b[0m \u001b[0mob\u001b[0m\u001b[0;34m[\u001b[0m\u001b[0;34m\"coordinates\"\u001b[0m\u001b[0;34m]\u001b[0m\u001b[0;34m[\u001b[0m\u001b[0;36m1\u001b[0m\u001b[0;34m:\u001b[0m\u001b[0;34m]\u001b[0m\u001b[0;34m)\u001b[0m\u001b[0;34m\u001b[0m\u001b[0;34m\u001b[0m\u001b[0m\n\u001b[0m\u001b[1;32m    106\u001b[0m     \u001b[0;32melif\u001b[0m \u001b[0mgeom_type\u001b[0m \u001b[0;34m==\u001b[0m \u001b[0;34m\"multipoint\"\u001b[0m\u001b[0;34m:\u001b[0m\u001b[0;34m\u001b[0m\u001b[0;34m\u001b[0m\u001b[0m\n\u001b[1;32m    107\u001b[0m         \u001b[0;32mreturn\u001b[0m \u001b[0mMultiPoint\u001b[0m\u001b[0;34m(\u001b[0m\u001b[0mob\u001b[0m\u001b[0;34m[\u001b[0m\u001b[0;34m\"coordinates\"\u001b[0m\u001b[0;34m]\u001b[0m\u001b[0;34m)\u001b[0m\u001b[0;34m\u001b[0m\u001b[0;34m\u001b[0m\u001b[0m\n",
      "\u001b[0;32m~/miniconda3/envs/grd2shp_xagg/lib/python3.9/site-packages/shapely/geometry/polygon.py\u001b[0m in \u001b[0;36m__init__\u001b[0;34m(self, shell, holes)\u001b[0m\n\u001b[1;32m    238\u001b[0m           \u001b[0;36m1.0\u001b[0m\u001b[0;34m\u001b[0m\u001b[0;34m\u001b[0m\u001b[0m\n\u001b[1;32m    239\u001b[0m         \"\"\"\n\u001b[0;32m--> 240\u001b[0;31m         \u001b[0mBaseGeometry\u001b[0m\u001b[0;34m.\u001b[0m\u001b[0m__init__\u001b[0m\u001b[0;34m(\u001b[0m\u001b[0mself\u001b[0m\u001b[0;34m)\u001b[0m\u001b[0;34m\u001b[0m\u001b[0;34m\u001b[0m\u001b[0m\n\u001b[0m\u001b[1;32m    241\u001b[0m \u001b[0;34m\u001b[0m\u001b[0m\n\u001b[1;32m    242\u001b[0m         \u001b[0;32mif\u001b[0m \u001b[0mshell\u001b[0m \u001b[0;32mis\u001b[0m \u001b[0;32mnot\u001b[0m \u001b[0;32mNone\u001b[0m\u001b[0;34m:\u001b[0m\u001b[0;34m\u001b[0m\u001b[0;34m\u001b[0m\u001b[0m\n",
      "\u001b[0;31mKeyboardInterrupt\u001b[0m: "
     ]
    }
   ],
   "source": [
    "g2s.write_gmcfsv2_file(opath='../data', prefix='test_',\n",
    "elev_file='../data/package.gpkg')"
   ]
  },
  {
   "cell_type": "code",
   "execution_count": null,
   "metadata": {},
   "outputs": [],
   "source": [
    "g2s.mapped_vars[0]"
   ]
  },
  {
   "cell_type": "code",
   "execution_count": null,
   "metadata": {},
   "outputs": [],
   "source": [
    "tst = g2s.mapped_data('tmax')\n",
    "print(type(tst))\n"
   ]
  },
  {
   "cell_type": "code",
   "execution_count": null,
   "metadata": {},
   "outputs": [],
   "source": [
    "tst.to_netcdf('../data/aggnetcdf.nc')"
   ]
  },
  {
   "cell_type": "code",
   "execution_count": null,
   "metadata": {},
   "outputs": [],
   "source": [
    "tst2 = xr.open_dataset('../data/aggnetcdf.nc')"
   ]
  },
  {
   "cell_type": "code",
   "execution_count": null,
   "metadata": {},
   "outputs": [],
   "source": [
    "tst2"
   ]
  },
  {
   "cell_type": "code",
   "execution_count": null,
   "metadata": {},
   "outputs": [],
   "source": [
    "lon, lat = g2s.get_centroid_lonlat()"
   ]
  },
  {
   "cell_type": "code",
   "execution_count": null,
   "metadata": {},
   "outputs": [],
   "source": [
    "len(lat)\n"
   ]
  },
  {
   "cell_type": "code",
   "execution_count": null,
   "metadata": {},
   "outputs": [],
   "source": [
    "type(lat)"
   ]
  },
  {
   "cell_type": "code",
   "execution_count": null,
   "metadata": {},
   "outputs": [],
   "source": []
  }
 ],
 "metadata": {
  "kernelspec": {
   "display_name": "Python 3 (ipykernel)",
   "language": "python",
   "name": "python3"
  },
  "language_info": {
   "codemirror_mode": {
    "name": "ipython",
    "version": 3
   },
   "file_extension": ".py",
   "mimetype": "text/x-python",
   "name": "python",
   "nbconvert_exporter": "python",
   "pygments_lexer": "ipython3",
   "version": "3.9.6"
  }
 },
 "nbformat": 4,
 "nbformat_minor": 4
}

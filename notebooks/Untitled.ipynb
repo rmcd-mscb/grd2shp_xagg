{
 "cells": [
  {
   "cell_type": "code",
   "execution_count": 2,
   "id": "3a16ea48-fd7a-48e4-8057-bb0ae5592bcc",
   "metadata": {},
   "outputs": [],
   "source": [
    "import gridmet_cfsv2 as gm\n",
    "import grd2shp_xagg\n",
    "import geopandas as gpd\n",
    "import numpy as np\n",
    "\n",
    "\n",
    "gm_vars = ['air_temperature',\n",
    "           'air_temperature',\n",
    "           'precipitation_amount',\n",
    "           'specific_humidity']\n",
    "m = gm.Gridmet(type=3)"
   ]
  },
  {
   "cell_type": "code",
   "execution_count": 3,
   "id": "4a706b89-4c51-4397-96f0-be7cfa02bdd6",
   "metadata": {},
   "outputs": [],
   "source": [
    "ds = m.tmax"
   ]
  },
  {
   "cell_type": "code",
   "execution_count": null,
   "id": "b4d30960-cace-4379-96af-c82002d86523",
   "metadata": {},
   "outputs": [],
   "source": []
  }
 ],
 "metadata": {
  "kernelspec": {
   "display_name": "Python 3 (ipykernel)",
   "language": "python",
   "name": "python3"
  },
  "language_info": {
   "codemirror_mode": {
    "name": "ipython",
    "version": 3
   },
   "file_extension": ".py",
   "mimetype": "text/x-python",
   "name": "python",
   "nbconvert_exporter": "python",
   "pygments_lexer": "ipython3",
   "version": "3.9.6"
  }
 },
 "nbformat": 4,
 "nbformat_minor": 5
}

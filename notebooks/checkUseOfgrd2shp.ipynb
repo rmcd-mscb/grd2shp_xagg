{
 "cells": [
  {
   "cell_type": "code",
   "execution_count": 1,
   "metadata": {},
   "outputs": [],
   "source": [
    "import pickle  # noqa: S403\n",
    "import geopandas as gpd\n",
    "import xarray as xr\n",
    "import grd2shp_xagg"
   ]
  },
  {
   "cell_type": "code",
   "execution_count": 2,
   "metadata": {},
   "outputs": [],
   "source": [
    "# %matplotlib inline\n",
    "ds2 = xr.open_dataset(\"../data/tmax_full.nc\")\n",
    "with open(\"../data/weight_gfv1_1.txt\", \"rb\") as file:\n",
    "    agg = pickle.load(file)  # noqa: S301\n",
    "    gdf = gpd.read_file(\"../data/GFv1.1_v2e_geographic.shp\")"
   ]
  },
  {
   "cell_type": "code",
   "execution_count": 3,
   "metadata": {},
   "outputs": [
    {
     "name": "stdout",
     "output_type": "stream",
     "text": [
      "numtimesteps: 32 and Start date: 2021-08-02\n"
     ]
    }
   ],
   "source": [
    "gm_vars = [\"air_temperature\"]\n",
    "g2s = grd2shp_xagg.Grd2ShpXagg()\n",
    "g2s.initialize(\n",
    "    grd=[ds2],\n",
    "    shp=gdf,\n",
    "    wght_file=\"../data/weight_gfv1_1.txt\",\n",
    "    time_var=\"day\",\n",
    "    lat_var=\"lat\",\n",
    "    lon_var=\"lon\",\n",
    "    var=gm_vars,\n",
    "    var_output=[\"tmax\"],\n",
    "    ctype=0,\n",
    ")"
   ]
  },
  {
   "cell_type": "code",
   "execution_count": 4,
   "metadata": {},
   "outputs": [
    {
     "name": "stdout",
     "output_type": "stream",
     "text": [
      "generating mapped vales for air_temperature ...\n",
      "aggregating air_temperature...\n",
      "all variables aggregated to polygons!\n",
      "finished mapped values for air_temperature\n"
     ]
    }
   ],
   "source": [
    "g2s.run_weights()"
   ]
  },
  {
   "cell_type": "code",
   "execution_count": 5,
   "metadata": {},
   "outputs": [
    {
     "name": "stdout",
     "output_type": "stream",
     "text": [
      "output path exists\n"
     ]
    },
    {
     "name": "stderr",
     "output_type": "stream",
     "text": [
      "/mnt/c/Users/rmcd/git/grd2shp_xagg/src/grd2shp_xagg/grd2shp_xagg.py:502: UserWarning: Geometry is in a geographic CRS. Results from 'centroid' are likely incorrect. Use 'GeoSeries.to_crs()' to re-project geometries to a projected CRS before this operation.\n",
      "\n",
      "  centroidseries = self.gdf.geometry.centroid.to_crs(epsg=4327)\n",
      "/home/rmcd/miniconda3/envs/grd2shp_xagg/lib/python3.9/site-packages/geopandas/geodataframe.py:577: RuntimeWarning: Sequential read of iterator was interrupted. Resetting iterator. This can negatively impact the performance.\n",
      "  for feature in features_lst:\n"
     ]
    },
    {
     "name": "stdout",
     "output_type": "stream",
     "text": [
      "output path exists\n",
      "output path exists\n",
      "output path exists\n",
      "output path exists\n",
      "output path exists\n",
      "output path exists\n",
      "output path exists\n",
      "output path exists\n",
      "output path exists\n",
      "output path exists\n",
      "output path exists\n",
      "output path exists\n",
      "output path exists\n",
      "output path exists\n",
      "output path exists\n",
      "output path exists\n",
      "output path exists\n",
      "output path exists\n",
      "output path exists\n",
      "output path exists\n",
      "output path exists\n",
      "output path exists\n",
      "output path exists\n",
      "output path exists\n",
      "output path exists\n",
      "output path exists\n",
      "output path exists\n",
      "output path exists\n",
      "output path exists\n",
      "output path exists\n",
      "output path exists\n",
      "output path exists\n",
      "output path exists\n",
      "output path exists\n",
      "output path exists\n",
      "output path exists\n",
      "output path exists\n",
      "output path exists\n",
      "output path exists\n",
      "output path exists\n",
      "output path exists\n",
      "output path exists\n",
      "output path exists\n",
      "output path exists\n",
      "output path exists\n",
      "output path exists\n",
      "output path exists\n"
     ]
    }
   ],
   "source": [
    "g2s.write_gmcfsv2_file(opath='../data', prefix='test_',\n",
    "elev_file='../data/package.gpkg')"
   ]
  },
  {
   "cell_type": "code",
   "execution_count": null,
   "metadata": {},
   "outputs": [],
   "source": []
  }
 ],
 "metadata": {
  "kernelspec": {
   "display_name": "Python 3 (ipykernel)",
   "language": "python",
   "name": "python3"
  },
  "language_info": {
   "codemirror_mode": {
    "name": "ipython",
    "version": 3
   },
   "file_extension": ".py",
   "mimetype": "text/x-python",
   "name": "python",
   "nbconvert_exporter": "python",
   "pygments_lexer": "ipython3",
   "version": "3.9.6"
  }
 },
 "nbformat": 4,
 "nbformat_minor": 4
}
